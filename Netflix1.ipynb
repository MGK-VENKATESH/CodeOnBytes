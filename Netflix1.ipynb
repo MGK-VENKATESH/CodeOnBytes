{
 "cells": [
  {
   "cell_type": "code",
   "execution_count": 1,
   "id": "78daa7fe",
   "metadata": {
    "_cell_guid": "b1076dfc-b9ad-4769-8c92-a6c4dae69d19",
    "_uuid": "8f2839f25d086af736a60e9eeb907d3b93b6e0e5",
    "execution": {
     "iopub.execute_input": "2023-10-06T16:24:54.274453Z",
     "iopub.status.busy": "2023-10-06T16:24:54.273725Z",
     "iopub.status.idle": "2023-10-06T16:24:54.916930Z",
     "shell.execute_reply": "2023-10-06T16:24:54.916085Z"
    },
    "papermill": {
     "duration": 0.654319,
     "end_time": "2023-10-06T16:24:54.919770",
     "exception": false,
     "start_time": "2023-10-06T16:24:54.265451",
     "status": "completed"
    },
    "tags": []
   },
   "outputs": [
    {
     "name": "stdout",
     "output_type": "stream",
     "text": [
      "/kaggle/input/netflixdataset/dataset - netflix1.csv\n"
     ]
    }
   ],
   "source": [
    "# This Python 3 environment comes with many helpful analytics libraries installed\n",
    "# It is defined by the kaggle/python Docker image: https://github.com/kaggle/docker-python\n",
    "# For example, here's several helpful packages to load\n",
    "\n",
    "import numpy as np # linear algebra\n",
    "import pandas as pd # data processing, CSV file I/O (e.g. pd.read_csv)\n",
    "\n",
    "# Input data files are available in the read-only \"../input/\" directory\n",
    "# For example, running this (by clicking run or pressing Shift+Enter) will list all files under the input directory\n",
    "\n",
    "import os\n",
    "for dirname, _, filenames in os.walk('/kaggle/input'):\n",
    "    for filename in filenames:\n",
    "        print(os.path.join(dirname, filename))\n",
    "\n",
    "# You can write up to 20GB to the current directory (/kaggle/working/) that gets preserved as output when you create a version using \"Save & Run All\" \n",
    "# You can also write temporary files to /kaggle/temp/, but they won't be saved outside of the current session"
   ]
  },
  {
   "cell_type": "markdown",
   "id": "6facfd29",
   "metadata": {
    "papermill": {
     "duration": 0.006459,
     "end_time": "2023-10-06T16:24:54.933577",
     "exception": false,
     "start_time": "2023-10-06T16:24:54.927118",
     "status": "completed"
    },
    "tags": []
   },
   "source": [
    "# Identifying and Replacing Null Values\n",
    "\n",
    "\n",
    "# Step 1: Importing necessary dependencies"
   ]
  },
  {
   "cell_type": "code",
   "execution_count": 2,
   "id": "7bac92d8",
   "metadata": {
    "execution": {
     "iopub.execute_input": "2023-10-06T16:24:54.947464Z",
     "iopub.status.busy": "2023-10-06T16:24:54.947135Z",
     "iopub.status.idle": "2023-10-06T16:24:55.892677Z",
     "shell.execute_reply": "2023-10-06T16:24:55.891721Z"
    },
    "papermill": {
     "duration": 0.954673,
     "end_time": "2023-10-06T16:24:55.894644",
     "exception": false,
     "start_time": "2023-10-06T16:24:54.939971",
     "status": "completed"
    },
    "tags": []
   },
   "outputs": [
    {
     "name": "stderr",
     "output_type": "stream",
     "text": [
      "/opt/conda/lib/python3.10/site-packages/scipy/__init__.py:146: UserWarning: A NumPy version >=1.16.5 and <1.23.0 is required for this version of SciPy (detected version 1.23.5\n",
      "  warnings.warn(f\"A NumPy version >={np_minversion} and <{np_maxversion}\"\n"
     ]
    },
    {
     "name": "stdout",
     "output_type": "stream",
     "text": [
      "/kaggle/input/netflixdataset/dataset - netflix1.csv\n"
     ]
    }
   ],
   "source": [
    "import numpy as np \n",
    "import pandas as pd \n",
    "import seaborn as sns\n",
    "import matplotlib.pyplot as plt\n",
    "import matplotlib.gridspec as gridspec\n",
    "\n",
    "\n",
    "\n",
    "# Used for choosing most frequently shown country.\n",
    "from collections import Counter\n",
    "\n",
    "import os\n",
    "for dirname, _, filenames in os.walk('/kaggle/input'):\n",
    "    for filename in filenames:\n",
    "        print(os.path.join(dirname, filename))\n",
    "        \n",
    "sns.set_theme(style= 'darkgrid', palette = 'pastel')"
   ]
  },
  {
   "cell_type": "markdown",
   "id": "8bc08722",
   "metadata": {
    "papermill": {
     "duration": 0.006363,
     "end_time": "2023-10-06T16:24:55.910156",
     "exception": false,
     "start_time": "2023-10-06T16:24:55.903793",
     "status": "completed"
    },
    "tags": []
   },
   "source": [
    "# Step2: Read and load the dataset"
   ]
  },
  {
   "cell_type": "code",
   "execution_count": 3,
   "id": "9faeafec",
   "metadata": {
    "execution": {
     "iopub.execute_input": "2023-10-06T16:24:55.924245Z",
     "iopub.status.busy": "2023-10-06T16:24:55.923991Z",
     "iopub.status.idle": "2023-10-06T16:24:55.996290Z",
     "shell.execute_reply": "2023-10-06T16:24:55.995344Z"
    },
    "papermill": {
     "duration": 0.081513,
     "end_time": "2023-10-06T16:24:55.998344",
     "exception": false,
     "start_time": "2023-10-06T16:24:55.916831",
     "status": "completed"
    },
    "tags": []
   },
   "outputs": [
    {
     "data": {
      "text/html": [
       "<div>\n",
       "<style scoped>\n",
       "    .dataframe tbody tr th:only-of-type {\n",
       "        vertical-align: middle;\n",
       "    }\n",
       "\n",
       "    .dataframe tbody tr th {\n",
       "        vertical-align: top;\n",
       "    }\n",
       "\n",
       "    .dataframe thead th {\n",
       "        text-align: right;\n",
       "    }\n",
       "</style>\n",
       "<table border=\"1\" class=\"dataframe\">\n",
       "  <thead>\n",
       "    <tr style=\"text-align: right;\">\n",
       "      <th></th>\n",
       "      <th>show_id</th>\n",
       "      <th>type</th>\n",
       "      <th>title</th>\n",
       "      <th>director</th>\n",
       "      <th>country</th>\n",
       "      <th>date_added</th>\n",
       "      <th>release_year</th>\n",
       "      <th>rating</th>\n",
       "      <th>duration</th>\n",
       "      <th>listed_in</th>\n",
       "    </tr>\n",
       "  </thead>\n",
       "  <tbody>\n",
       "    <tr>\n",
       "      <th>0</th>\n",
       "      <td>s1</td>\n",
       "      <td>Movie</td>\n",
       "      <td>Dick Johnson Is Dead</td>\n",
       "      <td>Kirsten Johnson</td>\n",
       "      <td>United States</td>\n",
       "      <td>9/25/2021</td>\n",
       "      <td>2020</td>\n",
       "      <td>PG-13</td>\n",
       "      <td>90 min</td>\n",
       "      <td>Documentaries</td>\n",
       "    </tr>\n",
       "    <tr>\n",
       "      <th>1</th>\n",
       "      <td>s3</td>\n",
       "      <td>TV Show</td>\n",
       "      <td>Ganglands</td>\n",
       "      <td>Julien Leclercq</td>\n",
       "      <td>France</td>\n",
       "      <td>9/24/2021</td>\n",
       "      <td>2021</td>\n",
       "      <td>TV-MA</td>\n",
       "      <td>1 Season</td>\n",
       "      <td>Crime TV Shows, International TV Shows, TV Act...</td>\n",
       "    </tr>\n",
       "    <tr>\n",
       "      <th>2</th>\n",
       "      <td>s6</td>\n",
       "      <td>TV Show</td>\n",
       "      <td>Midnight Mass</td>\n",
       "      <td>Mike Flanagan</td>\n",
       "      <td>United States</td>\n",
       "      <td>9/24/2021</td>\n",
       "      <td>2021</td>\n",
       "      <td>TV-MA</td>\n",
       "      <td>1 Season</td>\n",
       "      <td>TV Dramas, TV Horror, TV Mysteries</td>\n",
       "    </tr>\n",
       "    <tr>\n",
       "      <th>3</th>\n",
       "      <td>s14</td>\n",
       "      <td>Movie</td>\n",
       "      <td>Confessions of an Invisible Girl</td>\n",
       "      <td>Bruno Garotti</td>\n",
       "      <td>Brazil</td>\n",
       "      <td>9/22/2021</td>\n",
       "      <td>2021</td>\n",
       "      <td>TV-PG</td>\n",
       "      <td>91 min</td>\n",
       "      <td>Children &amp; Family Movies, Comedies</td>\n",
       "    </tr>\n",
       "    <tr>\n",
       "      <th>4</th>\n",
       "      <td>s8</td>\n",
       "      <td>Movie</td>\n",
       "      <td>Sankofa</td>\n",
       "      <td>Haile Gerima</td>\n",
       "      <td>United States</td>\n",
       "      <td>9/24/2021</td>\n",
       "      <td>1993</td>\n",
       "      <td>TV-MA</td>\n",
       "      <td>125 min</td>\n",
       "      <td>Dramas, Independent Movies, International Movies</td>\n",
       "    </tr>\n",
       "  </tbody>\n",
       "</table>\n",
       "</div>"
      ],
      "text/plain": [
       "  show_id     type                             title         director  \\\n",
       "0      s1    Movie              Dick Johnson Is Dead  Kirsten Johnson   \n",
       "1      s3  TV Show                         Ganglands  Julien Leclercq   \n",
       "2      s6  TV Show                     Midnight Mass    Mike Flanagan   \n",
       "3     s14    Movie  Confessions of an Invisible Girl    Bruno Garotti   \n",
       "4      s8    Movie                           Sankofa     Haile Gerima   \n",
       "\n",
       "         country date_added  release_year rating  duration  \\\n",
       "0  United States  9/25/2021          2020  PG-13    90 min   \n",
       "1         France  9/24/2021          2021  TV-MA  1 Season   \n",
       "2  United States  9/24/2021          2021  TV-MA  1 Season   \n",
       "3         Brazil  9/22/2021          2021  TV-PG    91 min   \n",
       "4  United States  9/24/2021          1993  TV-MA   125 min   \n",
       "\n",
       "                                           listed_in  \n",
       "0                                      Documentaries  \n",
       "1  Crime TV Shows, International TV Shows, TV Act...  \n",
       "2                 TV Dramas, TV Horror, TV Mysteries  \n",
       "3                 Children & Family Movies, Comedies  \n",
       "4   Dramas, Independent Movies, International Movies  "
      ]
     },
     "execution_count": 3,
     "metadata": {},
     "output_type": "execute_result"
    }
   ],
   "source": [
    "df_net=pd.read_csv('/kaggle/input/netflixdataset/dataset - netflix1.csv')\n",
    "df_net.head()"
   ]
  },
  {
   "cell_type": "code",
   "execution_count": 4,
   "id": "85d4d051",
   "metadata": {
    "execution": {
     "iopub.execute_input": "2023-10-06T16:24:56.017053Z",
     "iopub.status.busy": "2023-10-06T16:24:56.016782Z",
     "iopub.status.idle": "2023-10-06T16:24:56.021186Z",
     "shell.execute_reply": "2023-10-06T16:24:56.020127Z"
    },
    "papermill": {
     "duration": 0.015298,
     "end_time": "2023-10-06T16:24:56.023143",
     "exception": false,
     "start_time": "2023-10-06T16:24:56.007845",
     "status": "completed"
    },
    "tags": []
   },
   "outputs": [],
   "source": [
    "# Step3: Getting Information Of Each Column"
   ]
  },
  {
   "cell_type": "code",
   "execution_count": 5,
   "id": "7dfe04b3",
   "metadata": {
    "execution": {
     "iopub.execute_input": "2023-10-06T16:24:56.039016Z",
     "iopub.status.busy": "2023-10-06T16:24:56.038796Z",
     "iopub.status.idle": "2023-10-06T16:24:56.117503Z",
     "shell.execute_reply": "2023-10-06T16:24:56.116634Z"
    },
    "papermill": {
     "duration": 0.088429,
     "end_time": "2023-10-06T16:24:56.119291",
     "exception": false,
     "start_time": "2023-10-06T16:24:56.030862",
     "status": "completed"
    },
    "tags": []
   },
   "outputs": [
    {
     "name": "stdout",
     "output_type": "stream",
     "text": [
      "<class 'pandas.core.frame.DataFrame'>\n",
      "RangeIndex: 8790 entries, 0 to 8789\n",
      "Data columns (total 10 columns):\n",
      " #   Column        Non-Null Count  Dtype \n",
      "---  ------        --------------  ----- \n",
      " 0   show_id       8790 non-null   object\n",
      " 1   type          8790 non-null   object\n",
      " 2   title         8790 non-null   object\n",
      " 3   director      8790 non-null   object\n",
      " 4   country       8790 non-null   object\n",
      " 5   date_added    8790 non-null   object\n",
      " 6   release_year  8790 non-null   int64 \n",
      " 7   rating        8790 non-null   object\n",
      " 8   duration      8790 non-null   object\n",
      " 9   listed_in     8790 non-null   object\n",
      "dtypes: int64(1), object(9)\n",
      "memory usage: 686.8+ KB\n"
     ]
    }
   ],
   "source": [
    "df_net.info()"
   ]
  },
  {
   "cell_type": "markdown",
   "id": "f6179c8a",
   "metadata": {
    "papermill": {
     "duration": 0.006958,
     "end_time": "2023-10-06T16:24:56.133205",
     "exception": false,
     "start_time": "2023-10-06T16:24:56.126247",
     "status": "completed"
    },
    "tags": []
   },
   "source": [
    "# Step4:Detect Null Values/NaN Values in Dataset"
   ]
  },
  {
   "cell_type": "code",
   "execution_count": 6,
   "id": "d316c3f7",
   "metadata": {
    "execution": {
     "iopub.execute_input": "2023-10-06T16:24:56.148096Z",
     "iopub.status.busy": "2023-10-06T16:24:56.147494Z",
     "iopub.status.idle": "2023-10-06T16:24:56.157290Z",
     "shell.execute_reply": "2023-10-06T16:24:56.156353Z"
    },
    "papermill": {
     "duration": 0.018886,
     "end_time": "2023-10-06T16:24:56.158980",
     "exception": false,
     "start_time": "2023-10-06T16:24:56.140094",
     "status": "completed"
    },
    "tags": []
   },
   "outputs": [
    {
     "data": {
      "text/plain": [
       "show_id         0\n",
       "type            0\n",
       "title           0\n",
       "director        0\n",
       "country         0\n",
       "date_added      0\n",
       "release_year    0\n",
       "rating          0\n",
       "duration        0\n",
       "listed_in       0\n",
       "dtype: int64"
      ]
     },
     "execution_count": 6,
     "metadata": {},
     "output_type": "execute_result"
    }
   ],
   "source": [
    "df_net.isna().sum()"
   ]
  },
  {
   "cell_type": "markdown",
   "id": "9abc1d0d",
   "metadata": {
    "papermill": {
     "duration": 0.006561,
     "end_time": "2023-10-06T16:24:56.172243",
     "exception": false,
     "start_time": "2023-10-06T16:24:56.165682",
     "status": "completed"
    },
    "tags": []
   },
   "source": [
    "***All are 0's i.e., No Null Values are Presented In The Dataset.***\n",
    "\n"
   ]
  },
  {
   "cell_type": "markdown",
   "id": "ecc5ac4d",
   "metadata": {
    "papermill": {
     "duration": 0.006537,
     "end_time": "2023-10-06T16:24:56.185734",
     "exception": false,
     "start_time": "2023-10-06T16:24:56.179197",
     "status": "completed"
    },
    "tags": []
   },
   "source": [
    "> *NO NULL VALUES ARE PRESENTED*\n",
    "\n",
    "**DATA SET IS CLEAN.**"
   ]
  },
  {
   "cell_type": "markdown",
   "id": "cc874443",
   "metadata": {
    "papermill": {
     "duration": 0.006788,
     "end_time": "2023-10-06T16:24:56.199203",
     "exception": false,
     "start_time": "2023-10-06T16:24:56.192415",
     "status": "completed"
    },
    "tags": []
   },
   "source": [
    "#  Detect and Remove Outliners\n",
    "*Z-score Treatment For release_year*\n",
    "\n",
    "# Step 1: Importing necessary dependencies \n",
    "# Step2: Read and load the dataset"
   ]
  },
  {
   "cell_type": "code",
   "execution_count": 7,
   "id": "9d95a5eb",
   "metadata": {
    "execution": {
     "iopub.execute_input": "2023-10-06T16:24:56.214230Z",
     "iopub.status.busy": "2023-10-06T16:24:56.213539Z",
     "iopub.status.idle": "2023-10-06T16:24:56.256045Z",
     "shell.execute_reply": "2023-10-06T16:24:56.255166Z"
    },
    "papermill": {
     "duration": 0.052118,
     "end_time": "2023-10-06T16:24:56.258071",
     "exception": false,
     "start_time": "2023-10-06T16:24:56.205953",
     "status": "completed"
    },
    "tags": []
   },
   "outputs": [
    {
     "data": {
      "text/html": [
       "<div>\n",
       "<style scoped>\n",
       "    .dataframe tbody tr th:only-of-type {\n",
       "        vertical-align: middle;\n",
       "    }\n",
       "\n",
       "    .dataframe tbody tr th {\n",
       "        vertical-align: top;\n",
       "    }\n",
       "\n",
       "    .dataframe thead th {\n",
       "        text-align: right;\n",
       "    }\n",
       "</style>\n",
       "<table border=\"1\" class=\"dataframe\">\n",
       "  <thead>\n",
       "    <tr style=\"text-align: right;\">\n",
       "      <th></th>\n",
       "      <th>show_id</th>\n",
       "      <th>type</th>\n",
       "      <th>title</th>\n",
       "      <th>director</th>\n",
       "      <th>country</th>\n",
       "      <th>date_added</th>\n",
       "      <th>release_year</th>\n",
       "      <th>rating</th>\n",
       "      <th>duration</th>\n",
       "      <th>listed_in</th>\n",
       "    </tr>\n",
       "  </thead>\n",
       "  <tbody>\n",
       "    <tr>\n",
       "      <th>2447</th>\n",
       "      <td>s3137</td>\n",
       "      <td>Movie</td>\n",
       "      <td>Game</td>\n",
       "      <td>Abhinay Deo</td>\n",
       "      <td>India</td>\n",
       "      <td>12/15/2019</td>\n",
       "      <td>2011</td>\n",
       "      <td>TV-14</td>\n",
       "      <td>135 min</td>\n",
       "      <td>International Movies, Thrillers</td>\n",
       "    </tr>\n",
       "    <tr>\n",
       "      <th>4142</th>\n",
       "      <td>s5797</td>\n",
       "      <td>Movie</td>\n",
       "      <td>Sample This</td>\n",
       "      <td>Dan Forrer</td>\n",
       "      <td>United States</td>\n",
       "      <td>9/15/2016</td>\n",
       "      <td>2012</td>\n",
       "      <td>TV-14</td>\n",
       "      <td>83 min</td>\n",
       "      <td>Documentaries, Music &amp; Musicals</td>\n",
       "    </tr>\n",
       "    <tr>\n",
       "      <th>2491</th>\n",
       "      <td>s3196</td>\n",
       "      <td>Movie</td>\n",
       "      <td>Jindua</td>\n",
       "      <td>Navaniat Singh</td>\n",
       "      <td>India</td>\n",
       "      <td>12/1/2019</td>\n",
       "      <td>2017</td>\n",
       "      <td>TV-14</td>\n",
       "      <td>135 min</td>\n",
       "      <td>Dramas, International Movies, Romantic Movies</td>\n",
       "    </tr>\n",
       "    <tr>\n",
       "      <th>4328</th>\n",
       "      <td>s6047</td>\n",
       "      <td>Movie</td>\n",
       "      <td>A Most Violent Year</td>\n",
       "      <td>J.C. Chandor</td>\n",
       "      <td>United Arab Emirates</td>\n",
       "      <td>7/22/2018</td>\n",
       "      <td>2014</td>\n",
       "      <td>R</td>\n",
       "      <td>125 min</td>\n",
       "      <td>Dramas, Thrillers</td>\n",
       "    </tr>\n",
       "    <tr>\n",
       "      <th>3994</th>\n",
       "      <td>s5573</td>\n",
       "      <td>Movie</td>\n",
       "      <td>Bon Cop, Bad Cop</td>\n",
       "      <td>Erik Canuel</td>\n",
       "      <td>Canada</td>\n",
       "      <td>3/15/2017</td>\n",
       "      <td>2006</td>\n",
       "      <td>TV-MA</td>\n",
       "      <td>117 min</td>\n",
       "      <td>Action &amp; Adventure, Comedies, International Mo...</td>\n",
       "    </tr>\n",
       "  </tbody>\n",
       "</table>\n",
       "</div>"
      ],
      "text/plain": [
       "     show_id   type                title        director  \\\n",
       "2447   s3137  Movie                 Game     Abhinay Deo   \n",
       "4142   s5797  Movie          Sample This      Dan Forrer   \n",
       "2491   s3196  Movie               Jindua  Navaniat Singh   \n",
       "4328   s6047  Movie  A Most Violent Year    J.C. Chandor   \n",
       "3994   s5573  Movie     Bon Cop, Bad Cop     Erik Canuel   \n",
       "\n",
       "                   country  date_added  release_year rating duration  \\\n",
       "2447                 India  12/15/2019          2011  TV-14  135 min   \n",
       "4142         United States   9/15/2016          2012  TV-14   83 min   \n",
       "2491                 India   12/1/2019          2017  TV-14  135 min   \n",
       "4328  United Arab Emirates   7/22/2018          2014      R  125 min   \n",
       "3994                Canada   3/15/2017          2006  TV-MA  117 min   \n",
       "\n",
       "                                              listed_in  \n",
       "2447                    International Movies, Thrillers  \n",
       "4142                    Documentaries, Music & Musicals  \n",
       "2491      Dramas, International Movies, Romantic Movies  \n",
       "4328                                  Dramas, Thrillers  \n",
       "3994  Action & Adventure, Comedies, International Mo...  "
      ]
     },
     "execution_count": 7,
     "metadata": {},
     "output_type": "execute_result"
    }
   ],
   "source": [
    "import numpy as np\n",
    "import pandas as pd\n",
    "import matplotlib.pyplot as plt\n",
    "import seaborn as sns\n",
    "\n",
    "df = pd.read_csv(\"/kaggle/input/netflixdataset/dataset - netflix1.csv\")\n",
    "df.sample(5)"
   ]
  },
  {
   "cell_type": "markdown",
   "id": "fd017d1c",
   "metadata": {
    "papermill": {
     "duration": 0.045996,
     "end_time": "2023-10-06T16:24:56.311045",
     "exception": false,
     "start_time": "2023-10-06T16:24:56.265049",
     "status": "completed"
    },
    "tags": []
   },
   "source": [
    "# Step 3: Plot the distribution plots for the features"
   ]
  },
  {
   "cell_type": "code",
   "execution_count": 8,
   "id": "9b2f6b02",
   "metadata": {
    "execution": {
     "iopub.execute_input": "2023-10-06T16:24:56.327485Z",
     "iopub.status.busy": "2023-10-06T16:24:56.326593Z",
     "iopub.status.idle": "2023-10-06T16:24:56.714316Z",
     "shell.execute_reply": "2023-10-06T16:24:56.713350Z"
    },
    "papermill": {
     "duration": 0.397606,
     "end_time": "2023-10-06T16:24:56.716209",
     "exception": false,
     "start_time": "2023-10-06T16:24:56.318603",
     "status": "completed"
    },
    "tags": []
   },
   "outputs": [
    {
     "data": {
      "image/png": "[encoded data removed]",
      "text/plain": [
       "<Figure size 1600x500 with 1 Axes>"
      ]
     },
     "metadata": {},
     "output_type": "display_data"
    }
   ],
   "source": [
    "import warnings\n",
    "warnings.filterwarnings(\"ignore\")\n",
    "plt.figure(figsize=(16,5))\n",
    "plt.subplot(1,2,1)\n",
    "sns.distplot(df[\"release_year\"])\n",
    "\n",
    "plt.show()"
   ]
  },
  {
   "cell_type": "code",
   "execution_count": 9,
   "id": "da1b3301",
   "metadata": {
    "execution": {
     "iopub.execute_input": "2023-10-06T16:24:56.732820Z",
     "iopub.status.busy": "2023-10-06T16:24:56.732541Z",
     "iopub.status.idle": "2023-10-06T16:24:56.738167Z",
     "shell.execute_reply": "2023-10-06T16:24:56.737335Z"
    },
    "papermill": {
     "duration": 0.01615,
     "end_time": "2023-10-06T16:24:56.740186",
     "exception": false,
     "start_time": "2023-10-06T16:24:56.724036",
     "status": "completed"
    },
    "tags": []
   },
   "outputs": [
    {
     "name": "stdout",
     "output_type": "stream",
     "text": [
      "0       2020\n",
      "1       2021\n",
      "2       2021\n",
      "3       2021\n",
      "4       1993\n",
      "        ... \n",
      "8785    2016\n",
      "8786    2016\n",
      "8787    2012\n",
      "8788    2016\n",
      "8789    2016\n",
      "Name: release_year, Length: 8790, dtype: int64\n"
     ]
    }
   ],
   "source": [
    "print(df.release_year)"
   ]
  },
  {
   "cell_type": "markdown",
   "id": "51cf21b6",
   "metadata": {
    "papermill": {
     "duration": 0.007558,
     "end_time": "2023-10-06T16:24:56.755179",
     "exception": false,
     "start_time": "2023-10-06T16:24:56.747621",
     "status": "completed"
    },
    "tags": []
   },
   "source": [
    "# Step 4: Finding the boundary values"
   ]
  },
  {
   "cell_type": "code",
   "execution_count": 10,
   "id": "2c1d56d4",
   "metadata": {
    "execution": {
     "iopub.execute_input": "2023-10-06T16:24:56.771223Z",
     "iopub.status.busy": "2023-10-06T16:24:56.770972Z",
     "iopub.status.idle": "2023-10-06T16:24:56.777753Z",
     "shell.execute_reply": "2023-10-06T16:24:56.776872Z"
    },
    "papermill": {
     "duration": 0.016848,
     "end_time": "2023-10-06T16:24:56.779467",
     "exception": false,
     "start_time": "2023-10-06T16:24:56.762619",
     "status": "completed"
    },
    "tags": []
   },
   "outputs": [
    {
     "name": "stdout",
     "output_type": "stream",
     "text": [
      "Highest allowed 2040.6595607699119\n",
      "Lowest allowed 1987.7067645998263\n"
     ]
    }
   ],
   "source": [
    "print('Highest allowed',df[\"release_year\"].mean() + 3*df[\"release_year\"].std())\n",
    "print('Lowest allowed',df[\"release_year\"].mean() - 3*df[\"release_year\"].std())\n",
    "\n"
   ]
  },
  {
   "cell_type": "markdown",
   "id": "c56df2d6",
   "metadata": {
    "papermill": {
     "duration": 0.007638,
     "end_time": "2023-10-06T16:24:56.794594",
     "exception": false,
     "start_time": "2023-10-06T16:24:56.786956",
     "status": "completed"
    },
    "tags": []
   },
   "source": [
    "# Step 5: Finding the outliers"
   ]
  },
  {
   "cell_type": "code",
   "execution_count": 11,
   "id": "b7ee1048",
   "metadata": {
    "execution": {
     "iopub.execute_input": "2023-10-06T16:24:56.811295Z",
     "iopub.status.busy": "2023-10-06T16:24:56.810459Z",
     "iopub.status.idle": "2023-10-06T16:24:56.826369Z",
     "shell.execute_reply": "2023-10-06T16:24:56.825457Z"
    },
    "papermill": {
     "duration": 0.026182,
     "end_time": "2023-10-06T16:24:56.828259",
     "exception": false,
     "start_time": "2023-10-06T16:24:56.802077",
     "status": "completed"
    },
    "tags": []
   },
   "outputs": [
    {
     "data": {
      "text/html": [
       "<div>\n",
       "<style scoped>\n",
       "    .dataframe tbody tr th:only-of-type {\n",
       "        vertical-align: middle;\n",
       "    }\n",
       "\n",
       "    .dataframe tbody tr th {\n",
       "        vertical-align: top;\n",
       "    }\n",
       "\n",
       "    .dataframe thead th {\n",
       "        text-align: right;\n",
       "    }\n",
       "</style>\n",
       "<table border=\"1\" class=\"dataframe\">\n",
       "  <thead>\n",
       "    <tr style=\"text-align: right;\">\n",
       "      <th></th>\n",
       "      <th>show_id</th>\n",
       "      <th>type</th>\n",
       "      <th>title</th>\n",
       "      <th>director</th>\n",
       "      <th>country</th>\n",
       "      <th>date_added</th>\n",
       "      <th>release_year</th>\n",
       "      <th>rating</th>\n",
       "      <th>duration</th>\n",
       "      <th>listed_in</th>\n",
       "    </tr>\n",
       "  </thead>\n",
       "  <tbody>\n",
       "    <tr>\n",
       "      <th>60</th>\n",
       "      <td>s42</td>\n",
       "      <td>Movie</td>\n",
       "      <td>Jaws</td>\n",
       "      <td>Steven Spielberg</td>\n",
       "      <td>United States</td>\n",
       "      <td>9/16/2021</td>\n",
       "      <td>1975</td>\n",
       "      <td>PG</td>\n",
       "      <td>124 min</td>\n",
       "      <td>Action &amp; Adventure, Classic Movies, Dramas</td>\n",
       "    </tr>\n",
       "    <tr>\n",
       "      <th>61</th>\n",
       "      <td>s43</td>\n",
       "      <td>Movie</td>\n",
       "      <td>Jaws 2</td>\n",
       "      <td>Jeannot Szwarc</td>\n",
       "      <td>United States</td>\n",
       "      <td>9/16/2021</td>\n",
       "      <td>1978</td>\n",
       "      <td>PG</td>\n",
       "      <td>116 min</td>\n",
       "      <td>Dramas, Horror Movies, Thrillers</td>\n",
       "    </tr>\n",
       "    <tr>\n",
       "      <th>62</th>\n",
       "      <td>s44</td>\n",
       "      <td>Movie</td>\n",
       "      <td>Jaws 3</td>\n",
       "      <td>Joe Alves</td>\n",
       "      <td>United States</td>\n",
       "      <td>9/16/2021</td>\n",
       "      <td>1983</td>\n",
       "      <td>PG</td>\n",
       "      <td>98 min</td>\n",
       "      <td>Action &amp; Adventure, Horror Movies, Thrillers</td>\n",
       "    </tr>\n",
       "    <tr>\n",
       "      <th>63</th>\n",
       "      <td>s45</td>\n",
       "      <td>Movie</td>\n",
       "      <td>Jaws: The Revenge</td>\n",
       "      <td>Joseph Sargent</td>\n",
       "      <td>United States</td>\n",
       "      <td>9/16/2021</td>\n",
       "      <td>1987</td>\n",
       "      <td>PG-13</td>\n",
       "      <td>91 min</td>\n",
       "      <td>Action &amp; Adventure, Horror Movies, Thrillers</td>\n",
       "    </tr>\n",
       "    <tr>\n",
       "      <th>182</th>\n",
       "      <td>s132</td>\n",
       "      <td>Movie</td>\n",
       "      <td>Blade Runner: The Final Cut</td>\n",
       "      <td>Ridley Scott</td>\n",
       "      <td>United States</td>\n",
       "      <td>9/1/2021</td>\n",
       "      <td>1982</td>\n",
       "      <td>R</td>\n",
       "      <td>117 min</td>\n",
       "      <td>Action &amp; Adventure, Classic Movies, Cult Movies</td>\n",
       "    </tr>\n",
       "    <tr>\n",
       "      <th>...</th>\n",
       "      <td>...</td>\n",
       "      <td>...</td>\n",
       "      <td>...</td>\n",
       "      <td>...</td>\n",
       "      <td>...</td>\n",
       "      <td>...</td>\n",
       "      <td>...</td>\n",
       "      <td>...</td>\n",
       "      <td>...</td>\n",
       "      <td>...</td>\n",
       "    </tr>\n",
       "    <tr>\n",
       "      <th>8649</th>\n",
       "      <td>s7879</td>\n",
       "      <td>TV Show</td>\n",
       "      <td>Robotech</td>\n",
       "      <td>Not Given</td>\n",
       "      <td>United States</td>\n",
       "      <td>10/1/2016</td>\n",
       "      <td>1985</td>\n",
       "      <td>TV-MA</td>\n",
       "      <td>1 Season</td>\n",
       "      <td>Anime Series</td>\n",
       "    </tr>\n",
       "    <tr>\n",
       "      <th>8661</th>\n",
       "      <td>s7994</td>\n",
       "      <td>TV Show</td>\n",
       "      <td>Shaka Zulu</td>\n",
       "      <td>Not Given</td>\n",
       "      <td>Italy</td>\n",
       "      <td>1/10/2019</td>\n",
       "      <td>1986</td>\n",
       "      <td>TV-14</td>\n",
       "      <td>1 Season</td>\n",
       "      <td>TV Dramas</td>\n",
       "    </tr>\n",
       "    <tr>\n",
       "      <th>8697</th>\n",
       "      <td>s8190</td>\n",
       "      <td>TV Show</td>\n",
       "      <td>The Andy Griffith Show</td>\n",
       "      <td>Not Given</td>\n",
       "      <td>United States</td>\n",
       "      <td>7/1/2017</td>\n",
       "      <td>1967</td>\n",
       "      <td>TV-G</td>\n",
       "      <td>8 Seasons</td>\n",
       "      <td>Classic &amp; Cult TV, TV Comedies</td>\n",
       "    </tr>\n",
       "    <tr>\n",
       "      <th>8702</th>\n",
       "      <td>s8232</td>\n",
       "      <td>Movie</td>\n",
       "      <td>The Bund</td>\n",
       "      <td>Not Given</td>\n",
       "      <td>Hong Kong</td>\n",
       "      <td>9/20/2018</td>\n",
       "      <td>1983</td>\n",
       "      <td>TV-14</td>\n",
       "      <td>103 min</td>\n",
       "      <td>Action &amp; Adventure, Dramas, International Movies</td>\n",
       "    </tr>\n",
       "    <tr>\n",
       "      <th>8746</th>\n",
       "      <td>s8542</td>\n",
       "      <td>TV Show</td>\n",
       "      <td>The Twilight Zone (Original Series)</td>\n",
       "      <td>Not Given</td>\n",
       "      <td>United States</td>\n",
       "      <td>7/1/2017</td>\n",
       "      <td>1963</td>\n",
       "      <td>TV-14</td>\n",
       "      <td>4 Seasons</td>\n",
       "      <td>Classic &amp; Cult TV, TV Sci-Fi &amp; Fantasy</td>\n",
       "    </tr>\n",
       "  </tbody>\n",
       "</table>\n",
       "<p>217 rows × 10 columns</p>\n",
       "</div>"
      ],
      "text/plain": [
       "     show_id     type                                title          director  \\\n",
       "60       s42    Movie                                 Jaws  Steven Spielberg   \n",
       "61       s43    Movie                               Jaws 2    Jeannot Szwarc   \n",
       "62       s44    Movie                               Jaws 3         Joe Alves   \n",
       "63       s45    Movie                    Jaws: The Revenge    Joseph Sargent   \n",
       "182     s132    Movie          Blade Runner: The Final Cut      Ridley Scott   \n",
       "...      ...      ...                                  ...               ...   \n",
       "8649   s7879  TV Show                             Robotech         Not Given   \n",
       "8661   s7994  TV Show                           Shaka Zulu         Not Given   \n",
       "8697   s8190  TV Show               The Andy Griffith Show         Not Given   \n",
       "8702   s8232    Movie                             The Bund         Not Given   \n",
       "8746   s8542  TV Show  The Twilight Zone (Original Series)         Not Given   \n",
       "\n",
       "            country date_added  release_year rating   duration  \\\n",
       "60    United States  9/16/2021          1975     PG    124 min   \n",
       "61    United States  9/16/2021          1978     PG    116 min   \n",
       "62    United States  9/16/2021          1983     PG     98 min   \n",
       "63    United States  9/16/2021          1987  PG-13     91 min   \n",
       "182   United States   9/1/2021          1982      R    117 min   \n",
       "...             ...        ...           ...    ...        ...   \n",
       "8649  United States  10/1/2016          1985  TV-MA   1 Season   \n",
       "8661          Italy  1/10/2019          1986  TV-14   1 Season   \n",
       "8697  United States   7/1/2017          1967   TV-G  8 Seasons   \n",
       "8702      Hong Kong  9/20/2018          1983  TV-14    103 min   \n",
       "8746  United States   7/1/2017          1963  TV-14  4 Seasons   \n",
       "\n",
       "                                             listed_in  \n",
       "60          Action & Adventure, Classic Movies, Dramas  \n",
       "61                    Dramas, Horror Movies, Thrillers  \n",
       "62        Action & Adventure, Horror Movies, Thrillers  \n",
       "63        Action & Adventure, Horror Movies, Thrillers  \n",
       "182    Action & Adventure, Classic Movies, Cult Movies  \n",
       "...                                                ...  \n",
       "8649                                      Anime Series  \n",
       "8661                                         TV Dramas  \n",
       "8697                    Classic & Cult TV, TV Comedies  \n",
       "8702  Action & Adventure, Dramas, International Movies  \n",
       "8746            Classic & Cult TV, TV Sci-Fi & Fantasy  \n",
       "\n",
       "[217 rows x 10 columns]"
      ]
     },
     "execution_count": 11,
     "metadata": {},
     "output_type": "execute_result"
    }
   ],
   "source": [
    "df[(df[\"release_year\"] > 2040.65) | (df[\"release_year\"] < 1987.70)]\n",
    "\n"
   ]
  },
  {
   "cell_type": "markdown",
   "id": "32b2d039",
   "metadata": {
    "papermill": {
     "duration": 0.0077,
     "end_time": "2023-10-06T16:24:56.844203",
     "exception": false,
     "start_time": "2023-10-06T16:24:56.836503",
     "status": "completed"
    },
    "tags": []
   },
   "source": [
    "# Step 6: Trimming of outliers"
   ]
  },
  {
   "cell_type": "code",
   "execution_count": 12,
   "id": "eca13e59",
   "metadata": {
    "execution": {
     "iopub.execute_input": "2023-10-06T16:24:56.861514Z",
     "iopub.status.busy": "2023-10-06T16:24:56.860828Z",
     "iopub.status.idle": "2023-10-06T16:24:56.875947Z",
     "shell.execute_reply": "2023-10-06T16:24:56.875026Z"
    },
    "papermill": {
     "duration": 0.025596,
     "end_time": "2023-10-06T16:24:56.877614",
     "exception": false,
     "start_time": "2023-10-06T16:24:56.852018",
     "status": "completed"
    },
    "tags": []
   },
   "outputs": [
    {
     "data": {
      "text/html": [
       "<div>\n",
       "<style scoped>\n",
       "    .dataframe tbody tr th:only-of-type {\n",
       "        vertical-align: middle;\n",
       "    }\n",
       "\n",
       "    .dataframe tbody tr th {\n",
       "        vertical-align: top;\n",
       "    }\n",
       "\n",
       "    .dataframe thead th {\n",
       "        text-align: right;\n",
       "    }\n",
       "</style>\n",
       "<table border=\"1\" class=\"dataframe\">\n",
       "  <thead>\n",
       "    <tr style=\"text-align: right;\">\n",
       "      <th></th>\n",
       "      <th>show_id</th>\n",
       "      <th>type</th>\n",
       "      <th>title</th>\n",
       "      <th>director</th>\n",
       "      <th>country</th>\n",
       "      <th>date_added</th>\n",
       "      <th>release_year</th>\n",
       "      <th>rating</th>\n",
       "      <th>duration</th>\n",
       "      <th>listed_in</th>\n",
       "    </tr>\n",
       "  </thead>\n",
       "  <tbody>\n",
       "    <tr>\n",
       "      <th>0</th>\n",
       "      <td>s1</td>\n",
       "      <td>Movie</td>\n",
       "      <td>Dick Johnson Is Dead</td>\n",
       "      <td>Kirsten Johnson</td>\n",
       "      <td>United States</td>\n",
       "      <td>9/25/2021</td>\n",
       "      <td>2020</td>\n",
       "      <td>PG-13</td>\n",
       "      <td>90 min</td>\n",
       "      <td>Documentaries</td>\n",
       "    </tr>\n",
       "    <tr>\n",
       "      <th>1</th>\n",
       "      <td>s3</td>\n",
       "      <td>TV Show</td>\n",
       "      <td>Ganglands</td>\n",
       "      <td>Julien Leclercq</td>\n",
       "      <td>France</td>\n",
       "      <td>9/24/2021</td>\n",
       "      <td>2021</td>\n",
       "      <td>TV-MA</td>\n",
       "      <td>1 Season</td>\n",
       "      <td>Crime TV Shows, International TV Shows, TV Act...</td>\n",
       "    </tr>\n",
       "    <tr>\n",
       "      <th>2</th>\n",
       "      <td>s6</td>\n",
       "      <td>TV Show</td>\n",
       "      <td>Midnight Mass</td>\n",
       "      <td>Mike Flanagan</td>\n",
       "      <td>United States</td>\n",
       "      <td>9/24/2021</td>\n",
       "      <td>2021</td>\n",
       "      <td>TV-MA</td>\n",
       "      <td>1 Season</td>\n",
       "      <td>TV Dramas, TV Horror, TV Mysteries</td>\n",
       "    </tr>\n",
       "    <tr>\n",
       "      <th>3</th>\n",
       "      <td>s14</td>\n",
       "      <td>Movie</td>\n",
       "      <td>Confessions of an Invisible Girl</td>\n",
       "      <td>Bruno Garotti</td>\n",
       "      <td>Brazil</td>\n",
       "      <td>9/22/2021</td>\n",
       "      <td>2021</td>\n",
       "      <td>TV-PG</td>\n",
       "      <td>91 min</td>\n",
       "      <td>Children &amp; Family Movies, Comedies</td>\n",
       "    </tr>\n",
       "    <tr>\n",
       "      <th>4</th>\n",
       "      <td>s8</td>\n",
       "      <td>Movie</td>\n",
       "      <td>Sankofa</td>\n",
       "      <td>Haile Gerima</td>\n",
       "      <td>United States</td>\n",
       "      <td>9/24/2021</td>\n",
       "      <td>1993</td>\n",
       "      <td>TV-MA</td>\n",
       "      <td>125 min</td>\n",
       "      <td>Dramas, Independent Movies, International Movies</td>\n",
       "    </tr>\n",
       "    <tr>\n",
       "      <th>...</th>\n",
       "      <td>...</td>\n",
       "      <td>...</td>\n",
       "      <td>...</td>\n",
       "      <td>...</td>\n",
       "      <td>...</td>\n",
       "      <td>...</td>\n",
       "      <td>...</td>\n",
       "      <td>...</td>\n",
       "      <td>...</td>\n",
       "      <td>...</td>\n",
       "    </tr>\n",
       "    <tr>\n",
       "      <th>8785</th>\n",
       "      <td>s8797</td>\n",
       "      <td>TV Show</td>\n",
       "      <td>Yunus Emre</td>\n",
       "      <td>Not Given</td>\n",
       "      <td>Turkey</td>\n",
       "      <td>1/17/2017</td>\n",
       "      <td>2016</td>\n",
       "      <td>TV-PG</td>\n",
       "      <td>2 Seasons</td>\n",
       "      <td>International TV Shows, TV Dramas</td>\n",
       "    </tr>\n",
       "    <tr>\n",
       "      <th>8786</th>\n",
       "      <td>s8798</td>\n",
       "      <td>TV Show</td>\n",
       "      <td>Zak Storm</td>\n",
       "      <td>Not Given</td>\n",
       "      <td>United States</td>\n",
       "      <td>9/13/2018</td>\n",
       "      <td>2016</td>\n",
       "      <td>TV-Y7</td>\n",
       "      <td>3 Seasons</td>\n",
       "      <td>Kids' TV</td>\n",
       "    </tr>\n",
       "    <tr>\n",
       "      <th>8787</th>\n",
       "      <td>s8801</td>\n",
       "      <td>TV Show</td>\n",
       "      <td>Zindagi Gulzar Hai</td>\n",
       "      <td>Not Given</td>\n",
       "      <td>Pakistan</td>\n",
       "      <td>12/15/2016</td>\n",
       "      <td>2012</td>\n",
       "      <td>TV-PG</td>\n",
       "      <td>1 Season</td>\n",
       "      <td>International TV Shows, Romantic TV Shows, TV ...</td>\n",
       "    </tr>\n",
       "    <tr>\n",
       "      <th>8788</th>\n",
       "      <td>s8784</td>\n",
       "      <td>TV Show</td>\n",
       "      <td>Yoko</td>\n",
       "      <td>Not Given</td>\n",
       "      <td>Pakistan</td>\n",
       "      <td>6/23/2018</td>\n",
       "      <td>2016</td>\n",
       "      <td>TV-Y</td>\n",
       "      <td>1 Season</td>\n",
       "      <td>Kids' TV</td>\n",
       "    </tr>\n",
       "    <tr>\n",
       "      <th>8789</th>\n",
       "      <td>s8786</td>\n",
       "      <td>TV Show</td>\n",
       "      <td>YOM</td>\n",
       "      <td>Not Given</td>\n",
       "      <td>Pakistan</td>\n",
       "      <td>6/7/2018</td>\n",
       "      <td>2016</td>\n",
       "      <td>TV-Y7</td>\n",
       "      <td>1 Season</td>\n",
       "      <td>Kids' TV</td>\n",
       "    </tr>\n",
       "  </tbody>\n",
       "</table>\n",
       "<p>8573 rows × 10 columns</p>\n",
       "</div>"
      ],
      "text/plain": [
       "     show_id     type                             title         director  \\\n",
       "0         s1    Movie              Dick Johnson Is Dead  Kirsten Johnson   \n",
       "1         s3  TV Show                         Ganglands  Julien Leclercq   \n",
       "2         s6  TV Show                     Midnight Mass    Mike Flanagan   \n",
       "3        s14    Movie  Confessions of an Invisible Girl    Bruno Garotti   \n",
       "4         s8    Movie                           Sankofa     Haile Gerima   \n",
       "...      ...      ...                               ...              ...   \n",
       "8785   s8797  TV Show                        Yunus Emre        Not Given   \n",
       "8786   s8798  TV Show                         Zak Storm        Not Given   \n",
       "8787   s8801  TV Show                Zindagi Gulzar Hai        Not Given   \n",
       "8788   s8784  TV Show                              Yoko        Not Given   \n",
       "8789   s8786  TV Show                               YOM        Not Given   \n",
       "\n",
       "            country  date_added  release_year rating   duration  \\\n",
       "0     United States   9/25/2021          2020  PG-13     90 min   \n",
       "1            France   9/24/2021          2021  TV-MA   1 Season   \n",
       "2     United States   9/24/2021          2021  TV-MA   1 Season   \n",
       "3            Brazil   9/22/2021          2021  TV-PG     91 min   \n",
       "4     United States   9/24/2021          1993  TV-MA    125 min   \n",
       "...             ...         ...           ...    ...        ...   \n",
       "8785         Turkey   1/17/2017          2016  TV-PG  2 Seasons   \n",
       "8786  United States   9/13/2018          2016  TV-Y7  3 Seasons   \n",
       "8787       Pakistan  12/15/2016          2012  TV-PG   1 Season   \n",
       "8788       Pakistan   6/23/2018          2016   TV-Y   1 Season   \n",
       "8789       Pakistan    6/7/2018          2016  TV-Y7   1 Season   \n",
       "\n",
       "                                              listed_in  \n",
       "0                                         Documentaries  \n",
       "1     Crime TV Shows, International TV Shows, TV Act...  \n",
       "2                    TV Dramas, TV Horror, TV Mysteries  \n",
       "3                    Children & Family Movies, Comedies  \n",
       "4      Dramas, Independent Movies, International Movies  \n",
       "...                                                 ...  \n",
       "8785                  International TV Shows, TV Dramas  \n",
       "8786                                           Kids' TV  \n",
       "8787  International TV Shows, Romantic TV Shows, TV ...  \n",
       "8788                                           Kids' TV  \n",
       "8789                                           Kids' TV  \n",
       "\n",
       "[8573 rows x 10 columns]"
      ]
     },
     "execution_count": 12,
     "metadata": {},
     "output_type": "execute_result"
    }
   ],
   "source": [
    "new_df = df[(df[\"release_year\"] < 2040.65) & (df[\"release_year\"] > 1987.70)]\n",
    "new_df"
   ]
  },
  {
   "cell_type": "markdown",
   "id": "bb5810b6",
   "metadata": {
    "papermill": {
     "duration": 0.008043,
     "end_time": "2023-10-06T16:24:56.893753",
     "exception": false,
     "start_time": "2023-10-06T16:24:56.885710",
     "status": "completed"
    },
    "tags": []
   },
   "source": [
    "# Step 7: Capping on outliers"
   ]
  },
  {
   "cell_type": "code",
   "execution_count": 13,
   "id": "ae9b9717",
   "metadata": {
    "execution": {
     "iopub.execute_input": "2023-10-06T16:24:56.914491Z",
     "iopub.status.busy": "2023-10-06T16:24:56.914252Z",
     "iopub.status.idle": "2023-10-06T16:24:56.919426Z",
     "shell.execute_reply": "2023-10-06T16:24:56.918610Z"
    },
    "papermill": {
     "duration": 0.015969,
     "end_time": "2023-10-06T16:24:56.921101",
     "exception": false,
     "start_time": "2023-10-06T16:24:56.905132",
     "status": "completed"
    },
    "tags": []
   },
   "outputs": [],
   "source": [
    "upper_limit = df[\"release_year\"].mean() + 3*df[\"release_year\"].std()\n",
    "lower_limit = df[\"release_year\"].mean() - 3*df[\"release_year\"].std()"
   ]
  },
  {
   "cell_type": "markdown",
   "id": "724cb417",
   "metadata": {
    "papermill": {
     "duration": 0.008242,
     "end_time": "2023-10-06T16:24:56.937311",
     "exception": false,
     "start_time": "2023-10-06T16:24:56.929069",
     "status": "completed"
    },
    "tags": []
   },
   "source": [
    "# Step 8: Now, apply the capping"
   ]
  },
  {
   "cell_type": "code",
   "execution_count": 14,
   "id": "ceaef45e",
   "metadata": {
    "execution": {
     "iopub.execute_input": "2023-10-06T16:24:56.954907Z",
     "iopub.status.busy": "2023-10-06T16:24:56.954232Z",
     "iopub.status.idle": "2023-10-06T16:24:56.959367Z",
     "shell.execute_reply": "2023-10-06T16:24:56.958597Z"
    },
    "papermill": {
     "duration": 0.01577,
     "end_time": "2023-10-06T16:24:56.961048",
     "exception": false,
     "start_time": "2023-10-06T16:24:56.945278",
     "status": "completed"
    },
    "tags": []
   },
   "outputs": [],
   "source": [
    "df[\"release_year\"] = np.where(\n",
    "df[\"release_year\"]>upper_limit,\n",
    "upper_limit,\n",
    "np.where(\n",
    "df[\"release_year\"]<lower_limit,\n",
    "lower_limit,\n",
    "df[\"release_year\"]))"
   ]
  },
  {
   "cell_type": "markdown",
   "id": "7712afa7",
   "metadata": {
    "papermill": {
     "duration": 0.008137,
     "end_time": "2023-10-06T16:24:56.977093",
     "exception": false,
     "start_time": "2023-10-06T16:24:56.968956",
     "status": "completed"
    },
    "tags": []
   },
   "source": [
    "# Step 9: Now, see the statistics using the “Describe” function"
   ]
  },
  {
   "cell_type": "code",
   "execution_count": 15,
   "id": "cf7951c7",
   "metadata": {
    "execution": {
     "iopub.execute_input": "2023-10-06T16:24:56.995512Z",
     "iopub.status.busy": "2023-10-06T16:24:56.994231Z",
     "iopub.status.idle": "2023-10-06T16:24:57.003727Z",
     "shell.execute_reply": "2023-10-06T16:24:57.002865Z"
    },
    "papermill": {
     "duration": 0.020375,
     "end_time": "2023-10-06T16:24:57.005475",
     "exception": false,
     "start_time": "2023-10-06T16:24:56.985100",
     "status": "completed"
    },
    "tags": []
   },
   "outputs": [
    {
     "data": {
      "text/plain": [
       "count    8790.000000\n",
       "mean     2014.516879\n",
       "std         7.216340\n",
       "min      1987.706765\n",
       "25%      2013.000000\n",
       "50%      2017.000000\n",
       "75%      2019.000000\n",
       "max      2021.000000\n",
       "Name: release_year, dtype: float64"
      ]
     },
     "execution_count": 15,
     "metadata": {},
     "output_type": "execute_result"
    }
   ],
   "source": [
    "df[\"release_year\"].describe()"
   ]
  },
  {
   "cell_type": "code",
   "execution_count": 16,
   "id": "d84ea9eb",
   "metadata": {
    "execution": {
     "iopub.execute_input": "2023-10-06T16:24:57.023012Z",
     "iopub.status.busy": "2023-10-06T16:24:57.022783Z",
     "iopub.status.idle": "2023-10-06T16:24:57.403970Z",
     "shell.execute_reply": "2023-10-06T16:24:57.403106Z"
    },
    "papermill": {
     "duration": 0.392043,
     "end_time": "2023-10-06T16:24:57.405868",
     "exception": false,
     "start_time": "2023-10-06T16:24:57.013825",
     "status": "completed"
    },
    "tags": []
   },
   "outputs": [
    {
     "data": {
      "image/png": "[encoded data removed]",
      "text/plain": [
       "<Figure size 1600x500 with 1 Axes>"
      ]
     },
     "metadata": {},
     "output_type": "display_data"
    }
   ],
   "source": [
    "import warnings\n",
    "warnings.filterwarnings(\"ignore\")\n",
    "plt.figure(figsize=(16,5))\n",
    "plt.subplot(1,2,1)\n",
    "sns.distplot(df[\"release_year\"])\n",
    "\n",
    "plt.show()"
   ]
  },
  {
   "cell_type": "markdown",
   "id": "25bed080",
   "metadata": {
    "papermill": {
     "duration": 0.008646,
     "end_time": "2023-10-06T16:24:57.423811",
     "exception": false,
     "start_time": "2023-10-06T16:24:57.415165",
     "status": "completed"
    },
    "tags": []
   },
   "source": [
    "**CONVERTING THE SEASONS IN THE DURATION COLUMN TO MINUTES(ASSUMMING 1 SEASON=60 MIN)**"
   ]
  },
  {
   "cell_type": "code",
   "execution_count": 17,
   "id": "858fb14b",
   "metadata": {
    "execution": {
     "iopub.execute_input": "2023-10-06T16:24:57.443066Z",
     "iopub.status.busy": "2023-10-06T16:24:57.442455Z",
     "iopub.status.idle": "2023-10-06T16:24:57.466648Z",
     "shell.execute_reply": "2023-10-06T16:24:57.465215Z"
    },
    "papermill": {
     "duration": 0.035721,
     "end_time": "2023-10-06T16:24:57.468336",
     "exception": false,
     "start_time": "2023-10-06T16:24:57.432615",
     "status": "completed"
    },
    "tags": []
   },
   "outputs": [
    {
     "name": "stdout",
     "output_type": "stream",
     "text": [
      "     show_id     type                             title         director  \\\n",
      "0         s1    Movie              Dick Johnson Is Dead  Kirsten Johnson   \n",
      "1         s3  TV Show                         Ganglands  Julien Leclercq   \n",
      "2         s6  TV Show                     Midnight Mass    Mike Flanagan   \n",
      "3        s14    Movie  Confessions of an Invisible Girl    Bruno Garotti   \n",
      "4         s8    Movie                           Sankofa     Haile Gerima   \n",
      "...      ...      ...                               ...              ...   \n",
      "8785   s8797  TV Show                        Yunus Emre        Not Given   \n",
      "8786   s8798  TV Show                         Zak Storm        Not Given   \n",
      "8787   s8801  TV Show                Zindagi Gulzar Hai        Not Given   \n",
      "8788   s8784  TV Show                              Yoko        Not Given   \n",
      "8789   s8786  TV Show                               YOM        Not Given   \n",
      "\n",
      "            country  date_added  release_year rating   duration  \\\n",
      "0     United States   9/25/2021        2020.0  PG-13     90 min   \n",
      "1            France   9/24/2021        2021.0  TV-MA   1 Season   \n",
      "2     United States   9/24/2021        2021.0  TV-MA   1 Season   \n",
      "3            Brazil   9/22/2021        2021.0  TV-PG     91 min   \n",
      "4     United States   9/24/2021        1993.0  TV-MA    125 min   \n",
      "...             ...         ...           ...    ...        ...   \n",
      "8785         Turkey   1/17/2017        2016.0  TV-PG  2 Seasons   \n",
      "8786  United States   9/13/2018        2016.0  TV-Y7  3 Seasons   \n",
      "8787       Pakistan  12/15/2016        2012.0  TV-PG   1 Season   \n",
      "8788       Pakistan   6/23/2018        2016.0   TV-Y   1 Season   \n",
      "8789       Pakistan    6/7/2018        2016.0  TV-Y7   1 Season   \n",
      "\n",
      "                                              listed_in  minutes  \n",
      "0                                         Documentaries       90  \n",
      "1     Crime TV Shows, International TV Shows, TV Act...       60  \n",
      "2                    TV Dramas, TV Horror, TV Mysteries       60  \n",
      "3                    Children & Family Movies, Comedies       91  \n",
      "4      Dramas, Independent Movies, International Movies      125  \n",
      "...                                                 ...      ...  \n",
      "8785                  International TV Shows, TV Dramas      120  \n",
      "8786                                           Kids' TV      180  \n",
      "8787  International TV Shows, Romantic TV Shows, TV ...       60  \n",
      "8788                                           Kids' TV       60  \n",
      "8789                                           Kids' TV       60  \n",
      "\n",
      "[8790 rows x 11 columns]\n"
     ]
    }
   ],
   "source": [
    "import re\n",
    "def convert_duration(duration_str):\n",
    "    # Extract numeric values using regular expression\n",
    "    numeric_values = re.findall(r'\\d+', duration_str)\n",
    "    \n",
    "    if numeric_values:\n",
    "        numeric_value = int(numeric_values[0])\n",
    "        if 'min' in duration_str:\n",
    "            # If 'min' is present, it's in minutes\n",
    "            return numeric_value\n",
    "        elif 'Season' in duration_str:\n",
    "            # If 'season' is present, assume 60 minutes per season\n",
    "            return numeric_value * 60\n",
    "    \n",
    "    return None  # Handle other cases if needed\n",
    "\n",
    "# Apply the function to the 'duration' column and create a new 'duration_minutes' column\n",
    "df['minutes'] = df['duration'].apply(convert_duration)\n",
    "\n",
    "# Print the DataFrame\n",
    "print(df)"
   ]
  },
  {
   "cell_type": "markdown",
   "id": "d5380925",
   "metadata": {
    "papermill": {
     "duration": 0.008676,
     "end_time": "2023-10-06T16:24:57.486082",
     "exception": false,
     "start_time": "2023-10-06T16:24:57.477406",
     "status": "completed"
    },
    "tags": []
   },
   "source": [
    "*This completes our Z-score-based technique!*\n",
    "\n",
    "# IQR Based Filtering\n",
    "*For the duration_minutes*"
   ]
  },
  {
   "cell_type": "markdown",
   "id": "37178167",
   "metadata": {
    "papermill": {
     "duration": 0.008589,
     "end_time": "2023-10-06T16:24:57.503637",
     "exception": false,
     "start_time": "2023-10-06T16:24:57.495048",
     "status": "completed"
    },
    "tags": []
   },
   "source": [
    "# Step-1: Import necessary dependencies\n",
    "*import numpy as np\n",
    "import pandas as pd\n",
    "import matplotlib.pyplot as plt\n",
    "import seaborn as sns*\n",
    "# Step-2: Read and load the dataset\n",
    "*df = pd.read_csv('filepath')\n",
    "df.head()*\n",
    "# Step-3: Plot the distribution plot for the features\n"
   ]
  },
  {
   "cell_type": "code",
   "execution_count": 18,
   "id": "c56ff775",
   "metadata": {
    "execution": {
     "iopub.execute_input": "2023-10-06T16:24:57.523200Z",
     "iopub.status.busy": "2023-10-06T16:24:57.522504Z",
     "iopub.status.idle": "2023-10-06T16:24:57.874619Z",
     "shell.execute_reply": "2023-10-06T16:24:57.873742Z"
    },
    "papermill": {
     "duration": 0.363671,
     "end_time": "2023-10-06T16:24:57.876411",
     "exception": false,
     "start_time": "2023-10-06T16:24:57.512740",
     "status": "completed"
    },
    "tags": []
   },
   "outputs": [
    {
     "data": {
      "image/png": "[encoded data removed]",
      "text/plain": [
       "<Figure size 1600x500 with 1 Axes>"
      ]
     },
     "metadata": {},
     "output_type": "display_data"
    }
   ],
   "source": [
    "plt.figure(figsize=(16,5))\n",
    "\n",
    "plt.subplot(1,2,2)\n",
    "sns.distplot(df['minutes'])\n",
    "plt.show()"
   ]
  },
  {
   "cell_type": "markdown",
   "id": "e9837113",
   "metadata": {
    "papermill": {
     "duration": 0.009408,
     "end_time": "2023-10-06T16:24:57.895454",
     "exception": false,
     "start_time": "2023-10-06T16:24:57.886046",
     "status": "completed"
    },
    "tags": []
   },
   "source": [
    "# Step-4: Form a box-plot for the skewed feature"
   ]
  },
  {
   "cell_type": "code",
   "execution_count": 19,
   "id": "789c8ef6",
   "metadata": {
    "execution": {
     "iopub.execute_input": "2023-10-06T16:24:57.917255Z",
     "iopub.status.busy": "2023-10-06T16:24:57.917001Z",
     "iopub.status.idle": "2023-10-06T16:24:58.112463Z",
     "shell.execute_reply": "2023-10-06T16:24:58.111540Z"
    },
    "papermill": {
     "duration": 0.209108,
     "end_time": "2023-10-06T16:24:58.114477",
     "exception": false,
     "start_time": "2023-10-06T16:24:57.905369",
     "status": "completed"
    },
    "tags": []
   },
   "outputs": [
    {
     "data": {
      "text/plain": [
       "<Axes: >"
      ]
     },
     "execution_count": 19,
     "metadata": {},
     "output_type": "execute_result"
    },
    {
     "data": {
      "image/png": "[encoded data removed]",
      "text/plain": [
       "<Figure size 640x480 with 1 Axes>"
      ]
     },
     "metadata": {},
     "output_type": "display_data"
    }
   ],
   "source": [
    "sns.boxplot(df['minutes'])"
   ]
  },
  {
   "cell_type": "markdown",
   "id": "5e67b080",
   "metadata": {
    "papermill": {
     "duration": 0.009835,
     "end_time": "2023-10-06T16:24:58.134153",
     "exception": false,
     "start_time": "2023-10-06T16:24:58.124318",
     "status": "completed"
    },
    "tags": []
   },
   "source": [
    "# Step-5: Finding the IQR"
   ]
  },
  {
   "cell_type": "code",
   "execution_count": 20,
   "id": "834506b5",
   "metadata": {
    "execution": {
     "iopub.execute_input": "2023-10-06T16:24:58.154843Z",
     "iopub.status.busy": "2023-10-06T16:24:58.154305Z",
     "iopub.status.idle": "2023-10-06T16:24:58.160881Z",
     "shell.execute_reply": "2023-10-06T16:24:58.160109Z"
    },
    "papermill": {
     "duration": 0.01893,
     "end_time": "2023-10-06T16:24:58.162550",
     "exception": false,
     "start_time": "2023-10-06T16:24:58.143620",
     "status": "completed"
    },
    "tags": []
   },
   "outputs": [],
   "source": [
    "percentile25 = df['minutes'].quantile(0.25)\n",
    "percentile75 = df['minutes'].quantile(0.75)"
   ]
  },
  {
   "cell_type": "markdown",
   "id": "b3e009f0",
   "metadata": {
    "papermill": {
     "duration": 0.009634,
     "end_time": "2023-10-06T16:24:58.181695",
     "exception": false,
     "start_time": "2023-10-06T16:24:58.172061",
     "status": "completed"
    },
    "tags": []
   },
   "source": [
    "# Step-6: Finding the upper and lower limits"
   ]
  },
  {
   "cell_type": "code",
   "execution_count": 21,
   "id": "c616cdd9",
   "metadata": {
    "execution": {
     "iopub.execute_input": "2023-10-06T16:24:58.202769Z",
     "iopub.status.busy": "2023-10-06T16:24:58.201994Z",
     "iopub.status.idle": "2023-10-06T16:24:58.206182Z",
     "shell.execute_reply": "2023-10-06T16:24:58.205419Z"
    },
    "papermill": {
     "duration": 0.016894,
     "end_time": "2023-10-06T16:24:58.208063",
     "exception": false,
     "start_time": "2023-10-06T16:24:58.191169",
     "status": "completed"
    },
    "tags": []
   },
   "outputs": [],
   "source": [
    "upper_limit = percentile75 + 1.5 \n",
    "lower_limit = percentile25 - 1.5 "
   ]
  },
  {
   "cell_type": "markdown",
   "id": "05b190d1",
   "metadata": {
    "papermill": {
     "duration": 0.009515,
     "end_time": "2023-10-06T16:24:58.227272",
     "exception": false,
     "start_time": "2023-10-06T16:24:58.217757",
     "status": "completed"
    },
    "tags": []
   },
   "source": [
    "# Step-7: Finding outliers"
   ]
  },
  {
   "cell_type": "code",
   "execution_count": 22,
   "id": "0a94873e",
   "metadata": {
    "execution": {
     "iopub.execute_input": "2023-10-06T16:24:58.248346Z",
     "iopub.status.busy": "2023-10-06T16:24:58.247723Z",
     "iopub.status.idle": "2023-10-06T16:24:58.264501Z",
     "shell.execute_reply": "2023-10-06T16:24:58.263559Z"
    },
    "papermill": {
     "duration": 0.029177,
     "end_time": "2023-10-06T16:24:58.266183",
     "exception": false,
     "start_time": "2023-10-06T16:24:58.237006",
     "status": "completed"
    },
    "tags": []
   },
   "outputs": [
    {
     "data": {
      "text/html": [
       "<div>\n",
       "<style scoped>\n",
       "    .dataframe tbody tr th:only-of-type {\n",
       "        vertical-align: middle;\n",
       "    }\n",
       "\n",
       "    .dataframe tbody tr th {\n",
       "        vertical-align: top;\n",
       "    }\n",
       "\n",
       "    .dataframe thead th {\n",
       "        text-align: right;\n",
       "    }\n",
       "</style>\n",
       "<table border=\"1\" class=\"dataframe\">\n",
       "  <thead>\n",
       "    <tr style=\"text-align: right;\">\n",
       "      <th></th>\n",
       "      <th>show_id</th>\n",
       "      <th>type</th>\n",
       "      <th>title</th>\n",
       "      <th>director</th>\n",
       "      <th>country</th>\n",
       "      <th>date_added</th>\n",
       "      <th>release_year</th>\n",
       "      <th>rating</th>\n",
       "      <th>duration</th>\n",
       "      <th>listed_in</th>\n",
       "      <th>minutes</th>\n",
       "    </tr>\n",
       "  </thead>\n",
       "  <tbody>\n",
       "    <tr>\n",
       "      <th>13</th>\n",
       "      <td>s471</td>\n",
       "      <td>Movie</td>\n",
       "      <td>Bridgerton - The Afterparty</td>\n",
       "      <td>Krysia Plonka, Kristian Mercado</td>\n",
       "      <td>United States</td>\n",
       "      <td>7/13/2021</td>\n",
       "      <td>2021.0</td>\n",
       "      <td>TV-14</td>\n",
       "      <td>39 min</td>\n",
       "      <td>Movies</td>\n",
       "      <td>39</td>\n",
       "    </tr>\n",
       "    <tr>\n",
       "      <th>14</th>\n",
       "      <td>s730</td>\n",
       "      <td>Movie</td>\n",
       "      <td>Bling Empire - The Afterparty</td>\n",
       "      <td>Krysia Plonka, Kristian Mercado</td>\n",
       "      <td>United States</td>\n",
       "      <td>6/12/2021</td>\n",
       "      <td>2021.0</td>\n",
       "      <td>TV-MA</td>\n",
       "      <td>36 min</td>\n",
       "      <td>Movies</td>\n",
       "      <td>36</td>\n",
       "    </tr>\n",
       "    <tr>\n",
       "      <th>15</th>\n",
       "      <td>s731</td>\n",
       "      <td>Movie</td>\n",
       "      <td>Cobra Kai - The Afterparty</td>\n",
       "      <td>Krysia Plonka, Kristian Mercado</td>\n",
       "      <td>United States</td>\n",
       "      <td>6/12/2021</td>\n",
       "      <td>2021.0</td>\n",
       "      <td>TV-MA</td>\n",
       "      <td>34 min</td>\n",
       "      <td>Movies</td>\n",
       "      <td>34</td>\n",
       "    </tr>\n",
       "    <tr>\n",
       "      <th>16</th>\n",
       "      <td>s913</td>\n",
       "      <td>Movie</td>\n",
       "      <td>The Circle - The Afterparty</td>\n",
       "      <td>Krysia Plonka, Kristian Mercado</td>\n",
       "      <td>United States</td>\n",
       "      <td>5/7/2021</td>\n",
       "      <td>2021.0</td>\n",
       "      <td>TV-14</td>\n",
       "      <td>35 min</td>\n",
       "      <td>Comedies</td>\n",
       "      <td>35</td>\n",
       "    </tr>\n",
       "    <tr>\n",
       "      <th>19</th>\n",
       "      <td>s3232</td>\n",
       "      <td>Movie</td>\n",
       "      <td>True: Winter Wishes</td>\n",
       "      <td>Mark Thornton, Todd Kauffman</td>\n",
       "      <td>United States</td>\n",
       "      <td>11/26/2019</td>\n",
       "      <td>2019.0</td>\n",
       "      <td>TV-Y</td>\n",
       "      <td>46 min</td>\n",
       "      <td>Children &amp; Family Movies</td>\n",
       "      <td>46</td>\n",
       "    </tr>\n",
       "    <tr>\n",
       "      <th>...</th>\n",
       "      <td>...</td>\n",
       "      <td>...</td>\n",
       "      <td>...</td>\n",
       "      <td>...</td>\n",
       "      <td>...</td>\n",
       "      <td>...</td>\n",
       "      <td>...</td>\n",
       "      <td>...</td>\n",
       "      <td>...</td>\n",
       "      <td>...</td>\n",
       "      <td>...</td>\n",
       "    </tr>\n",
       "    <tr>\n",
       "      <th>8625</th>\n",
       "      <td>s7776</td>\n",
       "      <td>Movie</td>\n",
       "      <td>Power Rangers Samurai: Clash of the Red Rangers</td>\n",
       "      <td>Not Given</td>\n",
       "      <td>United States</td>\n",
       "      <td>1/1/2016</td>\n",
       "      <td>2011.0</td>\n",
       "      <td>TV-Y7</td>\n",
       "      <td>46 min</td>\n",
       "      <td>Children &amp; Family Movies</td>\n",
       "      <td>46</td>\n",
       "    </tr>\n",
       "    <tr>\n",
       "      <th>8626</th>\n",
       "      <td>s7777</td>\n",
       "      <td>Movie</td>\n",
       "      <td>Power Rangers Samurai: Party Monsters (Hallowe...</td>\n",
       "      <td>Not Given</td>\n",
       "      <td>United States</td>\n",
       "      <td>1/1/2016</td>\n",
       "      <td>2011.0</td>\n",
       "      <td>TV-Y7</td>\n",
       "      <td>24 min</td>\n",
       "      <td>Movies</td>\n",
       "      <td>24</td>\n",
       "    </tr>\n",
       "    <tr>\n",
       "      <th>8627</th>\n",
       "      <td>s7781</td>\n",
       "      <td>Movie</td>\n",
       "      <td>Power Rangers Super Samurai: Stuck on Christmas</td>\n",
       "      <td>Not Given</td>\n",
       "      <td>United States</td>\n",
       "      <td>1/1/2016</td>\n",
       "      <td>2012.0</td>\n",
       "      <td>TV-Y7</td>\n",
       "      <td>24 min</td>\n",
       "      <td>Children &amp; Family Movies, Sci-Fi &amp; Fantasy</td>\n",
       "      <td>24</td>\n",
       "    </tr>\n",
       "    <tr>\n",
       "      <th>8628</th>\n",
       "      <td>s7782</td>\n",
       "      <td>Movie</td>\n",
       "      <td>Power Rangers Super Samurai: Trickster Treat</td>\n",
       "      <td>Not Given</td>\n",
       "      <td>United States</td>\n",
       "      <td>1/1/2016</td>\n",
       "      <td>2012.0</td>\n",
       "      <td>TV-Y7</td>\n",
       "      <td>23 min</td>\n",
       "      <td>Movies</td>\n",
       "      <td>23</td>\n",
       "    </tr>\n",
       "    <tr>\n",
       "      <th>8634</th>\n",
       "      <td>s7788</td>\n",
       "      <td>Movie</td>\n",
       "      <td>Power Rangers: Megaforce: Raising Spirits</td>\n",
       "      <td>Not Given</td>\n",
       "      <td>United States</td>\n",
       "      <td>1/1/2016</td>\n",
       "      <td>2013.0</td>\n",
       "      <td>TV-Y7</td>\n",
       "      <td>24 min</td>\n",
       "      <td>Children &amp; Family Movies</td>\n",
       "      <td>24</td>\n",
       "    </tr>\n",
       "  </tbody>\n",
       "</table>\n",
       "<p>432 rows × 11 columns</p>\n",
       "</div>"
      ],
      "text/plain": [
       "     show_id   type                                              title  \\\n",
       "13      s471  Movie                        Bridgerton - The Afterparty   \n",
       "14      s730  Movie                      Bling Empire - The Afterparty   \n",
       "15      s731  Movie                         Cobra Kai - The Afterparty   \n",
       "16      s913  Movie                        The Circle - The Afterparty   \n",
       "19     s3232  Movie                                True: Winter Wishes   \n",
       "...      ...    ...                                                ...   \n",
       "8625   s7776  Movie    Power Rangers Samurai: Clash of the Red Rangers   \n",
       "8626   s7777  Movie  Power Rangers Samurai: Party Monsters (Hallowe...   \n",
       "8627   s7781  Movie    Power Rangers Super Samurai: Stuck on Christmas   \n",
       "8628   s7782  Movie       Power Rangers Super Samurai: Trickster Treat   \n",
       "8634   s7788  Movie          Power Rangers: Megaforce: Raising Spirits   \n",
       "\n",
       "                             director        country  date_added  \\\n",
       "13    Krysia Plonka, Kristian Mercado  United States   7/13/2021   \n",
       "14    Krysia Plonka, Kristian Mercado  United States   6/12/2021   \n",
       "15    Krysia Plonka, Kristian Mercado  United States   6/12/2021   \n",
       "16    Krysia Plonka, Kristian Mercado  United States    5/7/2021   \n",
       "19       Mark Thornton, Todd Kauffman  United States  11/26/2019   \n",
       "...                               ...            ...         ...   \n",
       "8625                        Not Given  United States    1/1/2016   \n",
       "8626                        Not Given  United States    1/1/2016   \n",
       "8627                        Not Given  United States    1/1/2016   \n",
       "8628                        Not Given  United States    1/1/2016   \n",
       "8634                        Not Given  United States    1/1/2016   \n",
       "\n",
       "      release_year rating duration  \\\n",
       "13          2021.0  TV-14   39 min   \n",
       "14          2021.0  TV-MA   36 min   \n",
       "15          2021.0  TV-MA   34 min   \n",
       "16          2021.0  TV-14   35 min   \n",
       "19          2019.0   TV-Y   46 min   \n",
       "...            ...    ...      ...   \n",
       "8625        2011.0  TV-Y7   46 min   \n",
       "8626        2011.0  TV-Y7   24 min   \n",
       "8627        2012.0  TV-Y7   24 min   \n",
       "8628        2012.0  TV-Y7   23 min   \n",
       "8634        2013.0  TV-Y7   24 min   \n",
       "\n",
       "                                       listed_in  minutes  \n",
       "13                                        Movies       39  \n",
       "14                                        Movies       36  \n",
       "15                                        Movies       34  \n",
       "16                                      Comedies       35  \n",
       "19                      Children & Family Movies       46  \n",
       "...                                          ...      ...  \n",
       "8625                    Children & Family Movies       46  \n",
       "8626                                      Movies       24  \n",
       "8627  Children & Family Movies, Sci-Fi & Fantasy       24  \n",
       "8628                                      Movies       23  \n",
       "8634                    Children & Family Movies       24  \n",
       "\n",
       "[432 rows x 11 columns]"
      ]
     },
     "execution_count": 22,
     "metadata": {},
     "output_type": "execute_result"
    }
   ],
   "source": [
    "df[df['minutes'] > upper_limit]\n",
    "df[df['minutes'] < lower_limit]"
   ]
  },
  {
   "cell_type": "markdown",
   "id": "f17f9375",
   "metadata": {
    "papermill": {
     "duration": 0.010007,
     "end_time": "2023-10-06T16:24:58.286288",
     "exception": false,
     "start_time": "2023-10-06T16:24:58.276281",
     "status": "completed"
    },
    "tags": []
   },
   "source": [
    "# Step-8: Trimming outliers"
   ]
  },
  {
   "cell_type": "code",
   "execution_count": 23,
   "id": "8be1a063",
   "metadata": {
    "execution": {
     "iopub.execute_input": "2023-10-06T16:24:58.307526Z",
     "iopub.status.busy": "2023-10-06T16:24:58.306979Z",
     "iopub.status.idle": "2023-10-06T16:24:58.314502Z",
     "shell.execute_reply": "2023-10-06T16:24:58.313707Z"
    },
    "papermill": {
     "duration": 0.019809,
     "end_time": "2023-10-06T16:24:58.316131",
     "exception": false,
     "start_time": "2023-10-06T16:24:58.296322",
     "status": "completed"
    },
    "tags": []
   },
   "outputs": [
    {
     "data": {
      "text/plain": [
       "(6719, 11)"
      ]
     },
     "execution_count": 23,
     "metadata": {},
     "output_type": "execute_result"
    }
   ],
   "source": [
    "new_df = df[df['minutes'] < upper_limit]\n",
    "new_df.shape"
   ]
  },
  {
   "cell_type": "markdown",
   "id": "c894de9d",
   "metadata": {
    "papermill": {
     "duration": 0.010042,
     "end_time": "2023-10-06T16:24:58.335977",
     "exception": false,
     "start_time": "2023-10-06T16:24:58.325935",
     "status": "completed"
    },
    "tags": []
   },
   "source": [
    "# Step-9: Compare the plots after trimming"
   ]
  },
  {
   "cell_type": "code",
   "execution_count": 24,
   "id": "bfa93e33",
   "metadata": {
    "execution": {
     "iopub.execute_input": "2023-10-06T16:24:58.357417Z",
     "iopub.status.busy": "2023-10-06T16:24:58.356869Z",
     "iopub.status.idle": "2023-10-06T16:24:59.133642Z",
     "shell.execute_reply": "2023-10-06T16:24:59.132724Z"
    },
    "papermill": {
     "duration": 0.790172,
     "end_time": "2023-10-06T16:24:59.136082",
     "exception": false,
     "start_time": "2023-10-06T16:24:58.345910",
     "status": "completed"
    },
    "tags": []
   },
   "outputs": [
    {
     "data": {
      "image/png": "[encoded data removed]",
      "text/plain": [
       "<Figure size 1600x800 with 4 Axes>"
      ]
     },
     "metadata": {},
     "output_type": "display_data"
    }
   ],
   "source": [
    "plt.figure(figsize=(16,8))\n",
    "plt.subplot(2,2,1)\n",
    "sns.distplot(df['minutes'])\n",
    "plt.subplot(2,2,2)\n",
    "sns.boxplot(df['minutes'])\n",
    "plt.subplot(2,2,3)\n",
    "sns.distplot(new_df['minutes'])\n",
    "plt.subplot(2,2,4)\n",
    "sns.boxplot(new_df['minutes'])\n",
    "plt.show()"
   ]
  },
  {
   "cell_type": "markdown",
   "id": "bf82636d",
   "metadata": {
    "papermill": {
     "duration": 0.011335,
     "end_time": "2023-10-06T16:24:59.158834",
     "exception": false,
     "start_time": "2023-10-06T16:24:59.147499",
     "status": "completed"
    },
    "tags": []
   },
   "source": [
    "# Step-10: Capping"
   ]
  },
  {
   "cell_type": "code",
   "execution_count": 25,
   "id": "3cf1d8dc",
   "metadata": {
    "execution": {
     "iopub.execute_input": "2023-10-06T16:24:59.182085Z",
     "iopub.status.busy": "2023-10-06T16:24:59.181829Z",
     "iopub.status.idle": "2023-10-06T16:24:59.187939Z",
     "shell.execute_reply": "2023-10-06T16:24:59.187182Z"
    },
    "papermill": {
     "duration": 0.019956,
     "end_time": "2023-10-06T16:24:59.189632",
     "exception": false,
     "start_time": "2023-10-06T16:24:59.169676",
     "status": "completed"
    },
    "tags": []
   },
   "outputs": [],
   "source": [
    "new_df_cap = df.copy()\n",
    "new_df_cap['minutes'] = np.where(\n",
    "    new_df_cap['minutes'] > upper_limit,\n",
    "    upper_limit,\n",
    "    np.where(\n",
    "        new_df_cap['minutes'] < lower_limit,\n",
    "        lower_limit,\n",
    "        new_df_cap['minutes']))"
   ]
  },
  {
   "cell_type": "markdown",
   "id": "bede4973",
   "metadata": {
    "papermill": {
     "duration": 0.010717,
     "end_time": "2023-10-06T16:24:59.211324",
     "exception": false,
     "start_time": "2023-10-06T16:24:59.200607",
     "status": "completed"
    },
    "tags": []
   },
   "source": [
    "# Step-11: Compare the plots after capping"
   ]
  },
  {
   "cell_type": "code",
   "execution_count": 26,
   "id": "abfd5985",
   "metadata": {
    "execution": {
     "iopub.execute_input": "2023-10-06T16:24:59.235123Z",
     "iopub.status.busy": "2023-10-06T16:24:59.234890Z",
     "iopub.status.idle": "2023-10-06T16:24:59.992139Z",
     "shell.execute_reply": "2023-10-06T16:24:59.991303Z"
    },
    "papermill": {
     "duration": 0.771984,
     "end_time": "2023-10-06T16:24:59.994470",
     "exception": false,
     "start_time": "2023-10-06T16:24:59.222486",
     "status": "completed"
    },
    "tags": []
   },
   "outputs": [
    {
     "data": {
      "image/png": "[encoded data removed]",
      "text/plain": [
       "<Figure size 1600x800 with 4 Axes>"
      ]
     },
     "metadata": {},
     "output_type": "display_data"
    }
   ],
   "source": [
    "plt.figure(figsize=(16,8))\n",
    "plt.subplot(2,2,1)\n",
    "sns.distplot(df['minutes'])\n",
    "plt.subplot(2,2,2)\n",
    "sns.boxplot(df['minutes'])\n",
    "plt.subplot(2,2,3)\n",
    "sns.distplot(new_df_cap['minutes'])\n",
    "plt.subplot(2,2,4)\n",
    "sns.boxplot(new_df_cap['minutes'])\n",
    "plt.show()\n"
   ]
  },
  {
   "cell_type": "markdown",
   "id": "f8d3d402",
   "metadata": {
    "papermill": {
     "duration": 0.034853,
     "end_time": "2023-10-06T16:25:00.056193",
     "exception": false,
     "start_time": "2023-10-06T16:25:00.021340",
     "status": "completed"
    },
    "tags": []
   },
   "source": [
    "**This completes our IQR-based technique!**"
   ]
  }
 ],
 "metadata": {
  "kernelspec": {
   "display_name": "Python 3",
   "language": "python",
   "name": "python3"
  },
  "language_info": {
   "codemirror_mode": {
    "name": "ipython",
    "version": 3
   },
   "file_extension": ".py",
   "mimetype": "text/x-python",
   "name": "python",
   "nbconvert_exporter": "python",
   "pygments_lexer": "ipython3",
   "version": "3.10.12"
  },
  "papermill": {
   "default_parameters": {},
   "duration": 9.134666,
   "end_time": "2023-10-06T16:25:00.500026",
   "environment_variables": {},
   "exception": null,
   "input_path": "__notebook__.ipynb",
   "output_path": "__notebook__.ipynb",
   "parameters": {},
   "start_time": "2023-10-06T16:24:51.365360",
   "version": "2.4.0"
  }
 },
 "nbformat": 4,
 "nbformat_minor": 5
}
